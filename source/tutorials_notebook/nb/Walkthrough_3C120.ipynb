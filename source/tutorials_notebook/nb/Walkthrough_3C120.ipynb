{
 "metadata": {
  "name": "",
  "signature": "sha256:b33bd871f5536d6e500992d745574329ea551d31e3fdd2899b1170e48998f7a9"
 },
 "nbformat": 3,
 "nbformat_minor": 0,
 "worksheets": [
  {
   "cells": [
    {
     "cell_type": "heading",
     "level": 1,
     "metadata": {},
     "source": [
      "Walkthrough 3C120"
     ]
    },
    {
     "cell_type": "markdown",
     "metadata": {},
     "source": [
      "In this walhthrough, I will show the basics of WISE analysis, by investigating the kinematic in the 3C120 jet."
     ]
    },
    {
     "cell_type": "heading",
     "level": 2,
     "metadata": {},
     "source": [
      "Setup"
     ]
    },
    {
     "cell_type": "markdown",
     "metadata": {},
     "source": [
      "We will analyse maps of the 3C120 jet observed with VLBA at 15 GHZ as part of the MOJAVE project. They can be obtained from http://www.physics.purdue.edu/MOJAVE/sourcepages/0430+052.shtml (FITS I image).\n",
      "\n"
     ]
    },
    {
     "cell_type": "markdown",
     "metadata": {},
     "source": [
      "The first step is to import the required python library:"
     ]
    },
    {
     "cell_type": "code",
     "collapsed": false,
     "input": [
      "import os\n",
      "import datetime\n",
      "import numpy as np\n",
      "\n",
      "import astropy.units as u\n",
      "\n",
      "import wise\n",
      "from wise import wiseutils, tasks\n",
      "from libwise import imgutils, plotutils, nputils\n",
      "\n",
      "%matplotlib qt4"
     ],
     "language": "python",
     "metadata": {},
     "outputs": []
    },
    {
     "cell_type": "markdown",
     "metadata": {},
     "source": [
      "We then initialize an AnalysisContext object that will handle the configurations and store the results:"
     ]
    },
    {
     "cell_type": "code",
     "collapsed": false,
     "input": [
      "ctx = wise.AnalysisContext()"
     ],
     "language": "python",
     "metadata": {},
     "outputs": []
    },
    {
     "cell_type": "heading",
     "level": 2,
     "metadata": {},
     "source": [
      "Setting up the data configration:"
     ]
    },
    {
     "cell_type": "markdown",
     "metadata": {},
     "source": [
      "Now we can setup the data configuration. To list the default configuration, we simply execute:"
     ]
    },
    {
     "cell_type": "code",
     "collapsed": false,
     "input": [
      "print ctx.config.data.doc()"
     ],
     "language": "python",
     "metadata": {},
     "outputs": []
    },
    {
     "cell_type": "markdown",
     "metadata": {},
     "source": [
      "data_dir is the directory where the results will be store. Setting a configuration is as simple as assigning a new value to it:"
     ]
    },
    {
     "cell_type": "code",
     "collapsed": false,
     "input": [
      "BASE_DIR = os.path.expanduser(\"~/data/3c120/mojave\")\n",
      "\n",
      "ctx.config.data.data_dir = os.path.join(BASE_DIR, \"run_test\")\n",
      "ctx.config.data.object_z = 0.033"
     ],
     "language": "python",
     "metadata": {},
     "outputs": []
    },
    {
     "cell_type": "markdown",
     "metadata": {},
     "source": [
      "To select the files to analyse, we use the ctx.select_files() function. This function accept shell like wilcards, and it is possible to filter files by dates. For this walkthrough, we will only analyse images starting from january 2012:"
     ]
    },
    {
     "cell_type": "code",
     "collapsed": false,
     "input": [
      "ctx.select_files(os.path.join(BASE_DIR, \"icn/*.icn.fits\"), start_date=datetime.datetime(2010, 1, 1))"
     ],
     "language": "python",
     "metadata": {},
     "outputs": []
    },
    {
     "cell_type": "markdown",
     "metadata": {},
     "source": [
      "Now that we have selected our files, we want to preview them, in order to select the region that we will investigate. For that, we will execute a tasks called tasks.view_all(). A task is a small function that will execute a particular task. To list all currently available tasks, we can run:"
     ]
    },
    {
     "cell_type": "code",
     "collapsed": false,
     "input": [
      "tasks.list_tasks()"
     ],
     "language": "python",
     "metadata": {},
     "outputs": []
    },
    {
     "cell_type": "markdown",
     "metadata": {},
     "source": [
      "The task tasks.info_files() will list some information about the currently selected files:"
     ]
    },
    {
     "cell_type": "code",
     "collapsed": false,
     "input": [
      "tasks.info_files(ctx)"
     ],
     "language": "python",
     "metadata": {},
     "outputs": []
    },
    {
     "cell_type": "markdown",
     "metadata": {},
     "source": [
      "while tasks.info_files_delta() gives information about the velocity resolution:"
     ]
    },
    {
     "cell_type": "code",
     "collapsed": false,
     "input": [
      "tasks.info_files_delta(ctx)"
     ],
     "language": "python",
     "metadata": {},
     "outputs": []
    },
    {
     "cell_type": "markdown",
     "metadata": {},
     "source": [
      "And to view all currently selected images, we run:"
     ]
    },
    {
     "cell_type": "code",
     "collapsed": false,
     "input": [
      "tasks.view_all(ctx, show_mask=False)\n",
      "# tasks.view_stack(ctx)"
     ],
     "language": "python",
     "metadata": {},
     "outputs": []
    },
    {
     "cell_type": "markdown",
     "metadata": {},
     "source": [
      "This will open a separate window in which you can walk through all the images.\n",
      "\n",
      "<img src=\"imgs/3c120/view_all.png\" width=400 align='left'/>\n"
     ]
    },
    {
     "cell_type": "markdown",
     "metadata": {},
     "source": [
      "To define our region of interest, we need to set a pre_process function. We will do similarly to define also a background region in the image:"
     ]
    },
    {
     "cell_type": "code",
     "collapsed": false,
     "input": [
      "def pre_process(ctx, img):\n",
      "    img.crop([5, -15], [-25, 5], projection=ctx.get_projection(img))\n",
      "\n",
      "def get_bg(ctx, img):\n",
      "    return img.data[:200, :200]\n",
      "\n",
      "def get_core(ctx, img):\n",
      "    ctx.pre_process(img)\n",
      "    prj = ctx.get_projection(img)\n",
      "    cmp_fct = lambda x, y: cmp(x.get_coord()[1], y.get_coord()[1])\n",
      "    core_pix = wiseutils.align_image_on_core(img, ctx.get_bg(img), cmp_fct, core_ratio=0.1)\n",
      "    return prj.p2s(plotutils.p2i(core_pix))\n",
      "\n",
      "ctx.config.data.bg_fct = get_bg\n",
      "ctx.config.data.pre_process_fct = pre_process\n",
      "ctx.config.data.core_offset_fct = get_core\n"
     ],
     "language": "python",
     "metadata": {},
     "outputs": []
    },
    {
     "cell_type": "markdown",
     "metadata": {},
     "source": [
      "We can also define a mask. We will use for that a conveniant task that set the mask as the brightest connected structure above a certain threshold of the stacked image:"
     ]
    },
    {
     "cell_type": "code",
     "collapsed": false,
     "input": [
      "ctx.save_core_offset_pos_file()\n",
      "\n",
      "tasks.set_mask_from_stack_img(ctx)"
     ],
     "language": "python",
     "metadata": {},
     "outputs": []
    },
    {
     "cell_type": "code",
     "collapsed": false,
     "input": [
      "tasks.view_all(ctx)"
     ],
     "language": "python",
     "metadata": {},
     "outputs": []
    },
    {
     "cell_type": "markdown",
     "metadata": {},
     "source": [
      "<img src=\"imgs/3c120/view_all_crop_mask.png\" width=400 align='left'/>\n"
     ]
    },
    {
     "cell_type": "heading",
     "level": 2,
     "metadata": {},
     "source": [
      "Setting up the detection configration:"
     ]
    },
    {
     "cell_type": "markdown",
     "metadata": {},
     "source": [
      "Similarly to the data configuration, the detection configuration is storted in ctx.config.finder:"
     ]
    },
    {
     "cell_type": "code",
     "collapsed": false,
     "input": [
      "print ctx.config.finder.doc()"
     ],
     "language": "python",
     "metadata": {},
     "outputs": []
    },
    {
     "cell_type": "markdown",
     "metadata": {},
     "source": [
      "We will perform the analysis for scales 2 and 3, with intermediate scale wavelet decomposition:"
     ]
    },
    {
     "cell_type": "code",
     "collapsed": false,
     "input": [
      "ctx.config.finder.min_scale = 2\n",
      "ctx.config.finder.max_scale = 4\n",
      "ctx.config.finder.use_iwd = True"
     ],
     "language": "python",
     "metadata": {},
     "outputs": []
    },
    {
     "cell_type": "heading",
     "level": 2,
     "metadata": {},
     "source": [
      "Running the detection"
     ]
    },
    {
     "cell_type": "markdown",
     "metadata": {},
     "source": [
      "Starting the detection is done with a task:"
     ]
    },
    {
     "cell_type": "code",
     "collapsed": false,
     "input": [
      "tasks.detection_all(ctx)"
     ],
     "language": "python",
     "metadata": {},
     "outputs": []
    },
    {
     "cell_type": "markdown",
     "metadata": {},
     "source": [
      "Different tasks can be used to look at the results:"
     ]
    },
    {
     "cell_type": "code",
     "collapsed": false,
     "input": [
      "tasks.view_wds(ctx, scales=[4, 8])"
     ],
     "language": "python",
     "metadata": {},
     "outputs": []
    },
    {
     "cell_type": "markdown",
     "metadata": {},
     "source": [
      "<img src=\"imgs/3c120/view_wds.png\" width=400 align='left'/>\n"
     ]
    },
    {
     "cell_type": "code",
     "collapsed": false,
     "input": [
      "tasks.plot_all_features(ctx, scales=[4, 8], pa=True)"
     ],
     "language": "python",
     "metadata": {},
     "outputs": []
    },
    {
     "cell_type": "markdown",
     "metadata": {},
     "source": [
      "<img src=\"imgs/3c120/plot_all_features.png\" width=400 align='left'/>\n"
     ]
    },
    {
     "cell_type": "heading",
     "level": 2,
     "metadata": {},
     "source": [
      "Setting up the matching configration:"
     ]
    },
    {
     "cell_type": "markdown",
     "metadata": {},
     "source": [
      "The matching configuration is storted in ctx.config.matcher:"
     ]
    },
    {
     "cell_type": "code",
     "collapsed": false,
     "input": [
      "print ctx.config.matcher.doc()"
     ],
     "language": "python",
     "metadata": {},
     "outputs": []
    },
    {
     "cell_type": "markdown",
     "metadata": {},
     "source": [
      "We will use the method ScaleMatcherMSCSC2 for the matching job. We also restrict the range of allowed displacemnet with a DeltaRangeFilter:"
     ]
    },
    {
     "cell_type": "code",
     "collapsed": false,
     "input": [
      "JET_ANGLE = -0.4 * u.rad\n",
      "direction = np.array([-np.cos(JET_ANGLE), np.sin(JET_ANGLE)])\n",
      "\n",
      "delta_filter = wise.DeltaRangeFilter([-1, 10], [-4, 4], unit=u.mas / u.year, x_dir=direction, pix_limit=4)\n",
      "\n",
      "ctx.config.matcher.delta_range_filter = delta_filter\n",
      "ctx.config.matcher.ignore_features_at_border = True\n",
      "ctx.config.matcher.tolerance_factor = 1.5\n",
      "ctx.config.matcher.method_klass = wise.ScaleMatcherMSCSC2"
     ],
     "language": "python",
     "metadata": {},
     "outputs": []
    },
    {
     "cell_type": "heading",
     "level": 2,
     "metadata": {},
     "source": [
      "Running the matching"
     ]
    },
    {
     "cell_type": "markdown",
     "metadata": {},
     "source": [
      "Starting the matching is also done with a task:"
     ]
    },
    {
     "cell_type": "code",
     "collapsed": false,
     "input": [
      "tasks.match_all(ctx)"
     ],
     "language": "python",
     "metadata": {},
     "outputs": []
    },
    {
     "cell_type": "markdown",
     "metadata": {},
     "source": [
      "Several tasks are available to view the results.\n",
      "\n",
      "We can look displacements from epoch to epoch indvidualy at a specified scale. The scale parameter in all tasks is in pixel."
     ]
    },
    {
     "cell_type": "code",
     "collapsed": false,
     "input": [
      "tasks.view_displacements(ctx, 4)"
     ],
     "language": "python",
     "metadata": {},
     "outputs": []
    },
    {
     "cell_type": "markdown",
     "metadata": {},
     "source": [
      "<span>\n",
      "<img src=\"imgs/3c120/view_displacements.png\" width=400 align='left'/>\n",
      "<img src=\"imgs/3c120/view_displacements2.png\" width=400 align='center'/>\n",
      "<span/>"
     ]
    },
    {
     "cell_type": "markdown",
     "metadata": {},
     "source": [
      "We can also view how the different components evolve as the travel away from the core:"
     ]
    },
    {
     "cell_type": "code",
     "collapsed": false,
     "input": [
      "tasks.plot_separation_from_core(ctx)"
     ],
     "language": "python",
     "metadata": {},
     "outputs": []
    },
    {
     "cell_type": "markdown",
     "metadata": {},
     "source": [
      "<span>\n",
      "<img src=\"imgs/3c120/plot_separation_from_core_scale4.png\" width=400 align='left'/>\n",
      "<img src=\"imgs/3c120/plot_separation_from_core_scale8.png\" width=400 align='center'/>\n",
      "<span/>"
     ]
    },
    {
     "cell_type": "markdown",
     "metadata": {},
     "source": [
      "plot_separation_from_core() have several options. It is possible to additionaly plot the position angle of the features, and filter them:"
     ]
    },
    {
     "cell_type": "code",
     "collapsed": false,
     "input": [
      "tasks.plot_separation_from_core(ctx, min_link_size=4, pa=True, feature_filter=wise.DfcFilter(0.1, 20, u.mas))"
     ],
     "language": "python",
     "metadata": {},
     "outputs": []
    },
    {
     "cell_type": "markdown",
     "metadata": {},
     "source": [
      "<span>\n",
      "<img src=\"imgs/3c120/plot_separation_from_core_pa_scale4.png\" width=400 align='left'/>\n",
      "<img src=\"imgs/3c120/plot_separation_from_core_pa_scale8.png\" width=400 align='center'/>\n",
      "<span/>"
     ]
    },
    {
     "cell_type": "markdown",
     "metadata": {},
     "source": [
      "We can also fit a fct to the trajectory. The task then return a dictionary with all the fit result:"
     ]
    },
    {
     "cell_type": "code",
     "collapsed": false,
     "input": [
      "fit_result = tasks.plot_separation_from_core(ctx, scales=4, fit_fct=nputils.LinearFct, num=True, \n",
      "                                                 min_link_size=4, feature_filter=wise.DfcFilter(0.1, 20, u.mas))"
     ],
     "language": "python",
     "metadata": {},
     "outputs": []
    },
    {
     "cell_type": "markdown",
     "metadata": {},
     "source": [
      "<img src=\"imgs/3c120/plot_separation_from_core_fit_scale4.png\" width=400 align='left'/>\n"
     ]
    },
    {
     "cell_type": "code",
     "collapsed": false,
     "input": [
      "for link, fit_fct in fit_result.items():\n",
      "    print \"Fit result for link %s: %.2f +- %.2f mas / year\" % (link.get_id(), fit_fct.a, fit_fct.ea)"
     ],
     "language": "python",
     "metadata": {},
     "outputs": []
    },
    {
     "cell_type": "markdown",
     "metadata": {},
     "source": [
      "To view the trajectories on a map, we can set first a reference image that will be used as background. We will use a stacked image of the all set using a conveniant tasks for that:"
     ]
    },
    {
     "cell_type": "code",
     "collapsed": false,
     "input": [
      "tasks.set_stack_image_as_ref(ctx)"
     ],
     "language": "python",
     "metadata": {},
     "outputs": []
    },
    {
     "cell_type": "code",
     "collapsed": false,
     "input": [
      "tasks.view_links(ctx, contour=True, map_cmap=plotutils.black_cmap, norm=plotutils.LogNorm(), levels=np.logspace(-3.5, 0, 20))"
     ],
     "language": "python",
     "metadata": {},
     "outputs": []
    },
    {
     "cell_type": "markdown",
     "metadata": {},
     "source": [
      "<img src=\"imgs/3c120/view_links.png\" width=400 align='left'/>\n"
     ]
    },
    {
     "cell_type": "markdown",
     "metadata": {},
     "source": [
      "The result can be save on disk using the save() task:"
     ]
    },
    {
     "cell_type": "code",
     "collapsed": false,
     "input": [
      "tasks.save(ctx, \"walkthrough_test\")"
     ],
     "language": "python",
     "metadata": {},
     "outputs": []
    },
    {
     "cell_type": "markdown",
     "metadata": {},
     "source": [
      "And can later be loaded using the load() task:"
     ]
    },
    {
     "cell_type": "code",
     "collapsed": false,
     "input": [
      "tasks.load(ctx, \"walkthrough_test\")"
     ],
     "language": "python",
     "metadata": {},
     "outputs": []
    },
    {
     "cell_type": "code",
     "collapsed": false,
     "input": [
      "ms_result_set, ms_link_builder = ctx.get_match_result()"
     ],
     "language": "python",
     "metadata": {},
     "outputs": []
    },
    {
     "cell_type": "code",
     "collapsed": false,
     "input": [
      "data = tasks.get_velocities_data(ctx, min_link_size=4, scales=4)"
     ],
     "language": "python",
     "metadata": {},
     "outputs": []
    },
    {
     "cell_type": "code",
     "collapsed": false,
     "input": [
      "print list(data.columns)"
     ],
     "language": "python",
     "metadata": {},
     "outputs": []
    },
    {
     "cell_type": "code",
     "collapsed": false,
     "input": [
      "ax = plotutils.subplots()\n",
      "for name, data_epoch in data.groupby('link_id'):\n",
      "    ax.errorbar(data_epoch.dfc, data_epoch.proper_velocity, yerr=data_epoch.proper_velocity_error, ls='', marker='o')\n",
      "ax.set_ylim(0, 20)\n",
      "ax.set_xlabel(\"Distance from core (mas)\")\n",
      "ax.set_ylabel(\"Apparent velocity (c)\")\n",
      "ax.figure.canvas.draw()"
     ],
     "language": "python",
     "metadata": {},
     "outputs": []
    },
    {
     "cell_type": "code",
     "collapsed": false,
     "input": [],
     "language": "python",
     "metadata": {},
     "outputs": []
    },
    {
     "cell_type": "code",
     "collapsed": false,
     "input": [],
     "language": "python",
     "metadata": {},
     "outputs": []
    }
   ],
   "metadata": {}
  }
 ]
}